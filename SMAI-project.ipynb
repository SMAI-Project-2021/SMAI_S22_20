{
 "cells": [
  {
   "cell_type": "markdown",
   "metadata": {},
   "source": [
    "# Importing the Libraries"
   ]
  },
  {
   "cell_type": "code",
   "execution_count": 1,
   "metadata": {
    "execution": {
     "iopub.execute_input": "2022-05-03T20:48:47.880453Z",
     "iopub.status.busy": "2022-05-03T20:48:47.879971Z",
     "iopub.status.idle": "2022-05-03T20:48:54.286405Z",
     "shell.execute_reply": "2022-05-03T20:48:54.285632Z",
     "shell.execute_reply.started": "2022-05-03T20:48:47.880363Z"
    }
   },
   "outputs": [
    {
     "name": "stderr",
     "output_type": "stream",
     "text": [
      "2022-05-04 03:02:37.773012: W tensorflow/stream_executor/platform/default/dso_loader.cc:64] Could not load dynamic library 'libcudart.so.11.0'; dlerror: libcudart.so.11.0: cannot open shared object file: No such file or directory\n",
      "2022-05-04 03:02:37.773050: I tensorflow/stream_executor/cuda/cudart_stub.cc:29] Ignore above cudart dlerror if you do not have a GPU set up on your machine.\n",
      "/usr/lib/python3/dist-packages/requests/__init__.py:89: RequestsDependencyWarning: urllib3 (1.26.8) or chardet (3.0.4) doesn't match a supported version!\n",
      "  warnings.warn(\"urllib3 ({}) or chardet ({}) doesn't match a supported \"\n"
     ]
    }
   ],
   "source": [
    "import pandas as pd\n",
    "import numpy as np\n",
    "import regex as re\n",
    "import matplotlib.pyplot as plt\n",
    "\n",
    "from nltk.corpus import stopwords\n",
    "from nltk.stem.porter import PorterStemmer\n",
    "from nltk.stem import WordNetLemmatizer\n",
    "\n",
    "from keras.layers import LSTM\n",
    "from keras.layers import Embedding\n",
    "\n",
    "\n",
    "from sklearn.model_selection import train_test_split\n",
    "\n",
    "import nltk \n",
    "from keras.models import Sequential\n",
    "from keras.layers import Dense, Conv2D, Flatten, Dropout\n",
    "\n",
    "from nltk.tokenize import word_tokenize\n",
    "\n",
    "from sklearn.feature_extraction.text import TfidfVectorizer, CountVectorizer\n",
    "from nltk.tokenize import sent_tokenize\n",
    "from sklearn.metrics import accuracy_score, confusion_matrix, recall_score, precision_score, f1_score"
   ]
  },
  {
   "cell_type": "code",
   "execution_count": 2,
   "metadata": {
    "execution": {
     "iopub.execute_input": "2022-05-03T20:48:54.288314Z",
     "iopub.status.busy": "2022-05-03T20:48:54.288060Z",
     "iopub.status.idle": "2022-05-03T20:49:05.498583Z",
     "shell.execute_reply": "2022-05-03T20:49:05.497804Z",
     "shell.execute_reply.started": "2022-05-03T20:48:54.288280Z"
    }
   },
   "outputs": [
    {
     "name": "stdout",
     "output_type": "stream",
     "text": [
      "Collecting openpyxl\n",
      "  Downloading openpyxl-3.0.9-py2.py3-none-any.whl (242 kB)\n",
      "\u001b[K     |████████████████████████████████| 242 kB 4.4 MB/s eta 0:00:01\n",
      "\u001b[?25hCollecting et-xmlfile\n",
      "  Downloading et_xmlfile-1.1.0-py3-none-any.whl (4.7 kB)\n",
      "Installing collected packages: et-xmlfile, openpyxl\n",
      "Successfully installed et-xmlfile-1.1.0 openpyxl-3.0.9\n"
     ]
    }
   ],
   "source": [
    "!pip install openpyxl"
   ]
  },
  {
   "cell_type": "code",
   "execution_count": 3,
   "metadata": {
    "execution": {
     "iopub.execute_input": "2022-05-03T20:49:05.500652Z",
     "iopub.status.busy": "2022-05-03T20:49:05.500388Z",
     "iopub.status.idle": "2022-05-03T20:49:05.696060Z",
     "shell.execute_reply": "2022-05-03T20:49:05.695344Z",
     "shell.execute_reply.started": "2022-05-03T20:49:05.500616Z"
    }
   },
   "outputs": [
    {
     "name": "stderr",
     "output_type": "stream",
     "text": [
      "[nltk_data] Downloading package punkt to /home/patidar/nltk_data...\n",
      "[nltk_data]   Package punkt is already up-to-date!\n"
     ]
    },
    {
     "data": {
      "text/plain": [
       "True"
      ]
     },
     "execution_count": 3,
     "metadata": {},
     "output_type": "execute_result"
    }
   ],
   "source": [
    "nltk.download('punkt')"
   ]
  },
  {
   "cell_type": "code",
   "execution_count": 4,
   "metadata": {
    "execution": {
     "iopub.execute_input": "2022-05-03T20:49:05.698022Z",
     "iopub.status.busy": "2022-05-03T20:49:05.697688Z",
     "iopub.status.idle": "2022-05-03T20:50:05.338509Z",
     "shell.execute_reply": "2022-05-03T20:50:05.337759Z",
     "shell.execute_reply.started": "2022-05-03T20:49:05.697985Z"
    }
   },
   "outputs": [
    {
     "name": "stdout",
     "output_type": "stream",
     "text": [
      "Requirement already satisfied: sentence-transformers in /home/patidar/.local/lib/python3.8/site-packages (2.1.0)\n",
      "Requirement already satisfied: tokenizers>=0.10.3 in /home/patidar/.local/lib/python3.8/site-packages (from sentence-transformers) (0.11.4)\n",
      "Requirement already satisfied: tqdm in /home/patidar/.local/lib/python3.8/site-packages (from sentence-transformers) (4.62.3)\n",
      "Requirement already satisfied: transformers<5.0.0,>=4.6.0 in /home/patidar/.local/lib/python3.8/site-packages (from sentence-transformers) (4.16.2)\n",
      "Requirement already satisfied: torchvision in /home/patidar/.local/lib/python3.8/site-packages (from sentence-transformers) (0.11.3)\n",
      "Requirement already satisfied: scikit-learn in /home/patidar/.local/lib/python3.8/site-packages (from sentence-transformers) (1.0.2)\n",
      "Requirement already satisfied: numpy in /home/patidar/.local/lib/python3.8/site-packages (from sentence-transformers) (1.22.3)\n",
      "Requirement already satisfied: torch>=1.6.0 in /home/patidar/.local/lib/python3.8/site-packages (from sentence-transformers) (1.10.2)\n",
      "Requirement already satisfied: sentencepiece in /home/patidar/.local/lib/python3.8/site-packages (from sentence-transformers) (0.1.96)\n",
      "Requirement already satisfied: nltk in /home/patidar/.local/lib/python3.8/site-packages (from sentence-transformers) (3.6.7)\n",
      "Requirement already satisfied: huggingface-hub in /home/patidar/.local/lib/python3.8/site-packages (from sentence-transformers) (0.4.0)\n",
      "Requirement already satisfied: scipy in /home/patidar/.local/lib/python3.8/site-packages (from sentence-transformers) (1.7.3)\n",
      "Requirement already satisfied: packaging>=20.0 in /home/patidar/.local/lib/python3.8/site-packages (from transformers<5.0.0,>=4.6.0->sentence-transformers) (21.3)\n",
      "Requirement already satisfied: pyyaml>=5.1 in /usr/lib/python3/dist-packages (from transformers<5.0.0,>=4.6.0->sentence-transformers) (5.3.1)\n",
      "Requirement already satisfied: filelock in /home/patidar/.local/lib/python3.8/site-packages (from transformers<5.0.0,>=4.6.0->sentence-transformers) (3.4.2)\n",
      "Requirement already satisfied: sacremoses in /home/patidar/.local/lib/python3.8/site-packages (from transformers<5.0.0,>=4.6.0->sentence-transformers) (0.0.47)\n",
      "Requirement already satisfied: regex!=2019.12.17 in /home/patidar/.local/lib/python3.8/site-packages (from transformers<5.0.0,>=4.6.0->sentence-transformers) (2022.1.18)\n",
      "Requirement already satisfied: requests in /usr/lib/python3/dist-packages (from transformers<5.0.0,>=4.6.0->sentence-transformers) (2.22.0)\n",
      "Requirement already satisfied: pillow!=8.3.0,>=5.3.0 in /home/patidar/.local/lib/python3.8/site-packages (from torchvision->sentence-transformers) (9.0.1)\n",
      "Requirement already satisfied: threadpoolctl>=2.0.0 in /home/patidar/.local/lib/python3.8/site-packages (from scikit-learn->sentence-transformers) (3.0.0)\n",
      "Requirement already satisfied: joblib>=0.11 in /home/patidar/.local/lib/python3.8/site-packages (from scikit-learn->sentence-transformers) (1.1.0)\n",
      "Requirement already satisfied: typing-extensions in /home/patidar/.local/lib/python3.8/site-packages (from torch>=1.6.0->sentence-transformers) (4.0.1)\n",
      "Requirement already satisfied: click in /usr/lib/python3/dist-packages (from nltk->sentence-transformers) (7.0)\n",
      "Requirement already satisfied: pyparsing!=3.0.5,>=2.0.2 in /home/patidar/.local/lib/python3.8/site-packages (from packaging>=20.0->transformers<5.0.0,>=4.6.0->sentence-transformers) (3.0.6)\n",
      "Requirement already satisfied: six in /usr/lib/python3/dist-packages (from sacremoses->transformers<5.0.0,>=4.6.0->sentence-transformers) (1.14.0)\n"
     ]
    },
    {
     "data": {
      "application/vnd.jupyter.widget-view+json": {
       "model_id": "17196a877b5248d2bc4a94f837ffae85",
       "version_major": 2,
       "version_minor": 0
      },
      "text/plain": [
       "Downloading:   0%|          | 0.00/438M [00:00<?, ?B/s]"
      ]
     },
     "metadata": {},
     "output_type": "display_data"
    },
    {
     "data": {
      "application/vnd.jupyter.widget-view+json": {
       "model_id": "586d2f958b27462d998ce8d444789cc3",
       "version_major": 2,
       "version_minor": 0
      },
      "text/plain": [
       "Downloading:   0%|          | 0.00/53.0 [00:00<?, ?B/s]"
      ]
     },
     "metadata": {},
     "output_type": "display_data"
    },
    {
     "data": {
      "application/vnd.jupyter.widget-view+json": {
       "model_id": "ec2ac46826894c17935cdce5cf657e84",
       "version_major": 2,
       "version_minor": 0
      },
      "text/plain": [
       "Downloading:   0%|          | 0.00/112 [00:00<?, ?B/s]"
      ]
     },
     "metadata": {},
     "output_type": "display_data"
    },
    {
     "data": {
      "application/vnd.jupyter.widget-view+json": {
       "model_id": "46166f2b82a640dd9e5bac11252d41bb",
       "version_major": 2,
       "version_minor": 0
      },
      "text/plain": [
       "Downloading:   0%|          | 0.00/466k [00:00<?, ?B/s]"
      ]
     },
     "metadata": {},
     "output_type": "display_data"
    },
    {
     "data": {
      "application/vnd.jupyter.widget-view+json": {
       "model_id": "d862256668354436bf7de6cdf9e00b45",
       "version_major": 2,
       "version_minor": 0
      },
      "text/plain": [
       "Downloading:   0%|          | 0.00/399 [00:00<?, ?B/s]"
      ]
     },
     "metadata": {},
     "output_type": "display_data"
    },
    {
     "data": {
      "application/vnd.jupyter.widget-view+json": {
       "model_id": "48b478bb8a314575936302899cbd93d4",
       "version_major": 2,
       "version_minor": 0
      },
      "text/plain": [
       "Downloading:   0%|          | 0.00/232k [00:00<?, ?B/s]"
      ]
     },
     "metadata": {},
     "output_type": "display_data"
    },
    {
     "data": {
      "application/vnd.jupyter.widget-view+json": {
       "model_id": "a157964efe30479eb4da4b8cb5078c53",
       "version_major": 2,
       "version_minor": 0
      },
      "text/plain": [
       "Downloading:   0%|          | 0.00/690 [00:00<?, ?B/s]"
      ]
     },
     "metadata": {},
     "output_type": "display_data"
    },
    {
     "data": {
      "application/vnd.jupyter.widget-view+json": {
       "model_id": "8722c9e67c9943a4ad663fabb109f415",
       "version_major": 2,
       "version_minor": 0
      },
      "text/plain": [
       "Downloading:   0%|          | 0.00/190 [00:00<?, ?B/s]"
      ]
     },
     "metadata": {},
     "output_type": "display_data"
    },
    {
     "data": {
      "application/vnd.jupyter.widget-view+json": {
       "model_id": "78f6aae614d34d6ebe9d0effe2d920b5",
       "version_major": 2,
       "version_minor": 0
      },
      "text/plain": [
       "Downloading:   0%|          | 0.00/3.69k [00:00<?, ?B/s]"
      ]
     },
     "metadata": {},
     "output_type": "display_data"
    },
    {
     "data": {
      "application/vnd.jupyter.widget-view+json": {
       "model_id": "a99489c317f845b184c2fe15fa4689e6",
       "version_major": 2,
       "version_minor": 0
      },
      "text/plain": [
       "Downloading:   0%|          | 0.00/629 [00:00<?, ?B/s]"
      ]
     },
     "metadata": {},
     "output_type": "display_data"
    },
    {
     "data": {
      "application/vnd.jupyter.widget-view+json": {
       "model_id": "ef6342da5fc44be890c921689fbd5fa5",
       "version_major": 2,
       "version_minor": 0
      },
      "text/plain": [
       "Downloading:   0%|          | 0.00/122 [00:00<?, ?B/s]"
      ]
     },
     "metadata": {},
     "output_type": "display_data"
    },
    {
     "data": {
      "application/vnd.jupyter.widget-view+json": {
       "model_id": "686b4d80c51a450a9bbd2b62605d9ef3",
       "version_major": 2,
       "version_minor": 0
      },
      "text/plain": [
       "Downloading:   0%|          | 0.00/229 [00:00<?, ?B/s]"
      ]
     },
     "metadata": {},
     "output_type": "display_data"
    },
    {
     "data": {
      "application/vnd.jupyter.widget-view+json": {
       "model_id": "cc4f875a2b294b2d88369d6d9d95db4b",
       "version_major": 2,
       "version_minor": 0
      },
      "text/plain": [
       "Downloading:   0%|          | 0.00/90.9M [00:00<?, ?B/s]"
      ]
     },
     "metadata": {},
     "output_type": "display_data"
    },
    {
     "data": {
      "application/vnd.jupyter.widget-view+json": {
       "model_id": "783e2d3201e245908fe4beadf09657c7",
       "version_major": 2,
       "version_minor": 0
      },
      "text/plain": [
       "Downloading:   0%|          | 0.00/53.0 [00:00<?, ?B/s]"
      ]
     },
     "metadata": {},
     "output_type": "display_data"
    },
    {
     "data": {
      "application/vnd.jupyter.widget-view+json": {
       "model_id": "59a19bca00ef4749adc90b81eab3d7df",
       "version_major": 2,
       "version_minor": 0
      },
      "text/plain": [
       "Downloading:   0%|          | 0.00/112 [00:00<?, ?B/s]"
      ]
     },
     "metadata": {},
     "output_type": "display_data"
    },
    {
     "data": {
      "application/vnd.jupyter.widget-view+json": {
       "model_id": "38a009d12b7d45968278f9d266b66698",
       "version_major": 2,
       "version_minor": 0
      },
      "text/plain": [
       "Downloading:   0%|          | 0.00/466k [00:00<?, ?B/s]"
      ]
     },
     "metadata": {},
     "output_type": "display_data"
    },
    {
     "data": {
      "application/vnd.jupyter.widget-view+json": {
       "model_id": "0e062aaac1194f2ea1349dcb65f70363",
       "version_major": 2,
       "version_minor": 0
      },
      "text/plain": [
       "Downloading:   0%|          | 0.00/314 [00:00<?, ?B/s]"
      ]
     },
     "metadata": {},
     "output_type": "display_data"
    },
    {
     "data": {
      "application/vnd.jupyter.widget-view+json": {
       "model_id": "8a9525cb836847109c3d2f37e061d17a",
       "version_major": 2,
       "version_minor": 0
      },
      "text/plain": [
       "Downloading:   0%|          | 0.00/232k [00:00<?, ?B/s]"
      ]
     },
     "metadata": {},
     "output_type": "display_data"
    }
   ],
   "source": [
    "!pip install sentence-transformers\n",
    "from sentence_transformers import SentenceTransformer\n",
    "bert_model = SentenceTransformer('bert-base-nli-mean-tokens')\n",
    "glove_model = SentenceTransformer('paraphrase-MiniLM-L6-v2')"
   ]
  },
  {
   "cell_type": "code",
   "execution_count": null,
   "metadata": {},
   "outputs": [],
   "source": [
    "!wget 'https://nlp.stanford.edu/data/glove.6B.zip'\n",
    "!unzip \"glove.6B.zip\" -d \"glove\""
   ]
  },
  {
   "cell_type": "markdown",
   "metadata": {},
   "source": [
    "# Importing Dataset"
   ]
  },
  {
   "cell_type": "code",
   "execution_count": 10,
   "metadata": {
    "execution": {
     "iopub.execute_input": "2022-05-03T20:52:56.903446Z",
     "iopub.status.busy": "2022-05-03T20:52:56.903166Z",
     "iopub.status.idle": "2022-05-03T20:52:57.371791Z",
     "shell.execute_reply": "2022-05-03T20:52:57.371120Z",
     "shell.execute_reply.started": "2022-05-03T20:52:56.903405Z"
    }
   },
   "outputs": [
    {
     "data": {
      "text/html": [
       "<div>\n",
       "<style scoped>\n",
       "    .dataframe tbody tr th:only-of-type {\n",
       "        vertical-align: middle;\n",
       "    }\n",
       "\n",
       "    .dataframe tbody tr th {\n",
       "        vertical-align: top;\n",
       "    }\n",
       "\n",
       "    .dataframe thead th {\n",
       "        text-align: right;\n",
       "    }\n",
       "</style>\n",
       "<table border=\"1\" class=\"dataframe\">\n",
       "  <thead>\n",
       "    <tr style=\"text-align: right;\">\n",
       "      <th></th>\n",
       "      <th>URL</th>\n",
       "      <th>Text</th>\n",
       "      <th>Sentiment</th>\n",
       "    </tr>\n",
       "  </thead>\n",
       "  <tbody>\n",
       "    <tr>\n",
       "      <th>0</th>\n",
       "      <td>http://www.imdb.com/title/tt0210075/usercomments</td>\n",
       "      <td>Girlfight follows a project dwelling New York ...</td>\n",
       "      <td>POS</td>\n",
       "    </tr>\n",
       "    <tr>\n",
       "      <th>1</th>\n",
       "      <td>http://www.imdb.com/title/tt0337640/usercomments</td>\n",
       "      <td>Hollywood North is an euphemism from the movie...</td>\n",
       "      <td>POS</td>\n",
       "    </tr>\n",
       "    <tr>\n",
       "      <th>2</th>\n",
       "      <td>http://www.imdb.com/title/tt0303549/usercomments</td>\n",
       "      <td>That '70s Show is definitely the funniest show...</td>\n",
       "      <td>POS</td>\n",
       "    </tr>\n",
       "    <tr>\n",
       "      <th>3</th>\n",
       "      <td>http://www.imdb.com/title/tt0716825/usercomments</td>\n",
       "      <td>9/10- 30 minutes of pure holiday terror. Okay,...</td>\n",
       "      <td>POS</td>\n",
       "    </tr>\n",
       "    <tr>\n",
       "      <th>4</th>\n",
       "      <td>http://www.imdb.com/title/tt0182225/usercomments</td>\n",
       "      <td>A series of random, seemingly insignificant th...</td>\n",
       "      <td>POS</td>\n",
       "    </tr>\n",
       "  </tbody>\n",
       "</table>\n",
       "</div>"
      ],
      "text/plain": [
       "                                                URL  \\\n",
       "0  http://www.imdb.com/title/tt0210075/usercomments   \n",
       "1  http://www.imdb.com/title/tt0337640/usercomments   \n",
       "2  http://www.imdb.com/title/tt0303549/usercomments   \n",
       "3  http://www.imdb.com/title/tt0716825/usercomments   \n",
       "4  http://www.imdb.com/title/tt0182225/usercomments   \n",
       "\n",
       "                                                Text Sentiment  \n",
       "0  Girlfight follows a project dwelling New York ...       POS  \n",
       "1  Hollywood North is an euphemism from the movie...       POS  \n",
       "2  That '70s Show is definitely the funniest show...       POS  \n",
       "3  9/10- 30 minutes of pure holiday terror. Okay,...       POS  \n",
       "4  A series of random, seemingly insignificant th...       POS  "
      ]
     },
     "execution_count": 10,
     "metadata": {},
     "output_type": "execute_result"
    }
   ],
   "source": [
    "dataset = pd.read_excel(\"IMDB.xlsx\")\n",
    "dataset.head()"
   ]
  },
  {
   "cell_type": "markdown",
   "metadata": {},
   "source": [
    "# Understanding the Dataset"
   ]
  },
  {
   "cell_type": "code",
   "execution_count": 11,
   "metadata": {
    "execution": {
     "iopub.execute_input": "2022-05-03T20:58:27.925619Z",
     "iopub.status.busy": "2022-05-03T20:58:27.925353Z",
     "iopub.status.idle": "2022-05-03T20:58:27.932364Z",
     "shell.execute_reply": "2022-05-03T20:58:27.931492Z",
     "shell.execute_reply.started": "2022-05-03T20:58:27.925590Z"
    }
   },
   "outputs": [
    {
     "data": {
      "text/plain": [
       "(1999, 3)"
      ]
     },
     "execution_count": 11,
     "metadata": {},
     "output_type": "execute_result"
    }
   ],
   "source": [
    "dataset.shape"
   ]
  },
  {
   "cell_type": "code",
   "execution_count": 12,
   "metadata": {
    "execution": {
     "iopub.execute_input": "2022-05-03T20:58:28.564446Z",
     "iopub.status.busy": "2022-05-03T20:58:28.563732Z",
     "iopub.status.idle": "2022-05-03T20:58:28.578257Z",
     "shell.execute_reply": "2022-05-03T20:58:28.577574Z",
     "shell.execute_reply.started": "2022-05-03T20:58:28.564410Z"
    }
   },
   "outputs": [
    {
     "data": {
      "text/plain": [
       "NEG    1000\n",
       "POS     999\n",
       "Name: Sentiment, dtype: int64"
      ]
     },
     "execution_count": 12,
     "metadata": {},
     "output_type": "execute_result"
    }
   ],
   "source": [
    "dataset['Sentiment'].value_counts()"
   ]
  },
  {
   "cell_type": "markdown",
   "metadata": {},
   "source": [
    "# Data Pre-processing"
   ]
  },
  {
   "cell_type": "code",
   "execution_count": 13,
   "metadata": {
    "execution": {
     "iopub.execute_input": "2022-05-03T20:58:32.012225Z",
     "iopub.status.busy": "2022-05-03T20:58:32.011681Z",
     "iopub.status.idle": "2022-05-03T20:58:32.017721Z",
     "shell.execute_reply": "2022-05-03T20:58:32.016989Z",
     "shell.execute_reply.started": "2022-05-03T20:58:32.012189Z"
    }
   },
   "outputs": [
    {
     "data": {
      "text/plain": [
       "(1999,)"
      ]
     },
     "execution_count": 13,
     "metadata": {},
     "output_type": "execute_result"
    }
   ],
   "source": [
    "reviews = dataset['Text']\n",
    "reviews.shape"
   ]
  },
  {
   "cell_type": "markdown",
   "metadata": {},
   "source": [
    "### 1. For TfIdf vectorizer"
   ]
  },
  {
   "cell_type": "code",
   "execution_count": 14,
   "metadata": {
    "execution": {
     "iopub.execute_input": "2022-05-03T20:58:34.705931Z",
     "iopub.status.busy": "2022-05-03T20:58:34.705271Z",
     "iopub.status.idle": "2022-05-03T20:58:34.712316Z",
     "shell.execute_reply": "2022-05-03T20:58:34.711644Z",
     "shell.execute_reply.started": "2022-05-03T20:58:34.705893Z"
    }
   },
   "outputs": [],
   "source": [
    "def dataPreprocessingTfIdf(data):\n",
    "    \n",
    "    corpus = []\n",
    "    \n",
    "    stop_words = set(stopwords.words('english'))\n",
    "    url_patterns = re.compile(r'https?://\\S+|www\\.\\S+')\n",
    "    for x in range(data.shape[0]):\n",
    "        \n",
    "        statement = url_patterns.sub(r'',data[x])\n",
    "        statement = re.sub('[^a-zA-Z]', ' ', statement)\n",
    "        statement = statement.lower() \n",
    "        statement = statement.split()\n",
    "        \n",
    "        ps = PorterStemmer()\n",
    "        statement = [ps.stem(word) for word in statement if not word in stop_words]\n",
    "        for i in statement:\n",
    "            corpus.append(i)\n",
    "\n",
    "    return corpus"
   ]
  },
  {
   "cell_type": "code",
   "execution_count": 15,
   "metadata": {
    "execution": {
     "iopub.execute_input": "2022-05-03T20:58:35.538756Z",
     "iopub.status.busy": "2022-05-03T20:58:35.537961Z",
     "iopub.status.idle": "2022-05-03T20:58:43.228769Z",
     "shell.execute_reply": "2022-05-03T20:58:43.228043Z",
     "shell.execute_reply.started": "2022-05-03T20:58:35.538712Z"
    }
   },
   "outputs": [],
   "source": [
    "X_preprocessed_tfidf = dataPreprocessingTfIdf(reviews)"
   ]
  },
  {
   "cell_type": "markdown",
   "metadata": {},
   "source": [
    "### 2. For Bert Embeddings"
   ]
  },
  {
   "cell_type": "code",
   "execution_count": 16,
   "metadata": {
    "execution": {
     "iopub.execute_input": "2022-05-03T20:58:52.882126Z",
     "iopub.status.busy": "2022-05-03T20:58:52.881593Z",
     "iopub.status.idle": "2022-05-03T20:58:52.893965Z",
     "shell.execute_reply": "2022-05-03T20:58:52.893082Z",
     "shell.execute_reply.started": "2022-05-03T20:58:52.882087Z"
    }
   },
   "outputs": [],
   "source": [
    "def dataPreprocessingBert(data):\n",
    "    corpus = []\n",
    "    \n",
    "    stop_words = set(stopwords.words('english'))\n",
    "    url_patterns = re.compile(r'https?://\\S+|www\\.\\S+')\n",
    "    \n",
    "    for x in range(data.shape[0]):\n",
    "        statement = url_patterns.sub(r'',data[x])\n",
    "        statement = re.sub('[^a-zA-Z]', ' ', statement) \n",
    "        statement = statement.lower()\n",
    "        statement = statement.split()\n",
    "        \n",
    "        ps = PorterStemmer()\n",
    "        statement = [ps.stem(word) for word in statement if not word in stop_words] # Stemming the dataset and removing stopwords\n",
    "        statement = ' '.join(statement)\n",
    "        corpus.append(statement)\n",
    "        \n",
    "    return corpus"
   ]
  },
  {
   "cell_type": "code",
   "execution_count": 17,
   "metadata": {},
   "outputs": [],
   "source": [
    "# X_preprocessed_bert = dataPreprocessingBert(reviews)"
   ]
  },
  {
   "cell_type": "markdown",
   "metadata": {},
   "source": [
    "### 3. Glove Embedding"
   ]
  },
  {
   "cell_type": "code",
   "execution_count": 19,
   "metadata": {
    "execution": {
     "iopub.execute_input": "2022-05-03T20:58:55.892143Z",
     "iopub.status.busy": "2022-05-03T20:58:55.891357Z",
     "iopub.status.idle": "2022-05-03T20:59:16.070577Z",
     "shell.execute_reply": "2022-05-03T20:59:16.069840Z",
     "shell.execute_reply.started": "2022-05-03T20:58:55.892100Z"
    }
   },
   "outputs": [],
   "source": [
    "emmbed_dict = {}\n",
    "with open('./glove/glove.6B.200d.txt','r') as f:\n",
    "    for line in f:\n",
    "        values = line.split()\n",
    "        word = values[0]\n",
    "        vector = np.asarray(values[1:],'float32')\n",
    "        emmbed_dict[word]=vector\n",
    "emmbed_dict['oov'] = np.zeros(200)"
   ]
  },
  {
   "cell_type": "code",
   "execution_count": 20,
   "metadata": {
    "execution": {
     "iopub.execute_input": "2022-05-03T20:59:16.072525Z",
     "iopub.status.busy": "2022-05-03T20:59:16.072245Z",
     "iopub.status.idle": "2022-05-03T20:59:16.079381Z",
     "shell.execute_reply": "2022-05-03T20:59:16.078660Z",
     "shell.execute_reply.started": "2022-05-03T20:59:16.072490Z"
    }
   },
   "outputs": [],
   "source": [
    "def dataPreprocessingGlove(data):\n",
    "    \n",
    "    corpus = []\n",
    "   \n",
    "    stop_words = set(stopwords.words('english'))\n",
    "    url_patterns = re.compile(r'https?://\\S+|www\\.\\S+')\n",
    "    \n",
    "    \n",
    "    for x in range(data.shape[0]):\n",
    "        statement = url_patterns.sub(r'',data[x])\n",
    "        statement = re.sub('[^a-zA-Z]', ' ', statement) \n",
    "        statement = statement.lower() \n",
    "        statement = word_tokenize(statement)\n",
    "\n",
    "        embed_statement = []\n",
    "        for w in statement:\n",
    "            if w in emmbed_dict:\n",
    "                embed_statement.append(emmbed_dict[w])\n",
    "            else:\n",
    "                embed_statement.append(emmbed_dict['oov'])\n",
    "        corpus.append(embed_statement)\n",
    "    \n",
    "    return np.array(corpus)"
   ]
  },
  {
   "cell_type": "code",
   "execution_count": 21,
   "metadata": {
    "execution": {
     "iopub.execute_input": "2022-05-03T20:59:16.081308Z",
     "iopub.status.busy": "2022-05-03T20:59:16.080770Z",
     "iopub.status.idle": "2022-05-03T20:59:20.570567Z",
     "shell.execute_reply": "2022-05-03T20:59:20.569832Z",
     "shell.execute_reply.started": "2022-05-03T20:59:16.081260Z"
    }
   },
   "outputs": [
    {
     "name": "stderr",
     "output_type": "stream",
     "text": [
      "/tmp/ipykernel_39174/2203086893.py:23: VisibleDeprecationWarning: Creating an ndarray from ragged nested sequences (which is a list-or-tuple of lists-or-tuples-or ndarrays with different lengths or shapes) is deprecated. If you meant to do this, you must specify 'dtype=object' when creating the ndarray.\n",
      "  return np.array(corpus)\n"
     ]
    }
   ],
   "source": [
    "X_preprocessed_glove = dataPreprocessingGlove(reviews)"
   ]
  },
  {
   "cell_type": "markdown",
   "metadata": {},
   "source": [
    "### Pre-processing Label"
   ]
  },
  {
   "cell_type": "code",
   "execution_count": 22,
   "metadata": {
    "execution": {
     "iopub.execute_input": "2022-05-03T20:59:20.573943Z",
     "iopub.status.busy": "2022-05-03T20:59:20.572385Z",
     "iopub.status.idle": "2022-05-03T20:59:20.578962Z",
     "shell.execute_reply": "2022-05-03T20:59:20.578301Z",
     "shell.execute_reply.started": "2022-05-03T20:59:20.573902Z"
    }
   },
   "outputs": [],
   "source": [
    "temp = dataset['Sentiment']\n",
    "y = []\n",
    "for i in temp:\n",
    "    if i=='POS':\n",
    "        y.append(1)\n",
    "    else:\n",
    "        y.append(0)"
   ]
  },
  {
   "cell_type": "markdown",
   "metadata": {},
   "source": [
    "# Create the Embeddings"
   ]
  },
  {
   "cell_type": "markdown",
   "metadata": {},
   "source": [
    "### 1. Tf-idf Vectorizer"
   ]
  },
  {
   "cell_type": "code",
   "execution_count": 23,
   "metadata": {
    "execution": {
     "iopub.execute_input": "2022-05-03T20:59:20.580508Z",
     "iopub.status.busy": "2022-05-03T20:59:20.580261Z",
     "iopub.status.idle": "2022-05-03T20:59:21.917964Z",
     "shell.execute_reply": "2022-05-03T20:59:21.917311Z",
     "shell.execute_reply.started": "2022-05-03T20:59:20.580472Z"
    }
   },
   "outputs": [
    {
     "data": {
      "text/plain": [
       "TfidfVectorizer(max_features=5000)"
      ]
     },
     "execution_count": 23,
     "metadata": {},
     "output_type": "execute_result"
    }
   ],
   "source": [
    "vectorizer = TfidfVectorizer(max_features = 5000)\n",
    "vectorizer.fit(X_preprocessed_tfidf)"
   ]
  },
  {
   "cell_type": "code",
   "execution_count": 24,
   "metadata": {
    "execution": {
     "iopub.execute_input": "2022-05-03T20:59:21.922174Z",
     "iopub.status.busy": "2022-05-03T20:59:21.921600Z",
     "iopub.status.idle": "2022-05-03T20:59:22.569886Z",
     "shell.execute_reply": "2022-05-03T20:59:22.569227Z",
     "shell.execute_reply.started": "2022-05-03T20:59:21.922135Z"
    }
   },
   "outputs": [
    {
     "data": {
      "text/plain": [
       "<1x5000 sparse matrix of type '<class 'numpy.float64'>'\n",
       "\twith 29 stored elements in Compressed Sparse Row format>"
      ]
     },
     "execution_count": 24,
     "metadata": {},
     "output_type": "execute_result"
    }
   ],
   "source": [
    "X_tfidf = vectorizer.transform(reviews)\n",
    "X_tfidf[0]"
   ]
  },
  {
   "cell_type": "markdown",
   "metadata": {},
   "source": [
    "### 2. BERT Embeddings"
   ]
  },
  {
   "cell_type": "code",
   "execution_count": null,
   "metadata": {
    "execution": {
     "iopub.execute_input": "2022-05-02T18:31:59.173637Z",
     "iopub.status.busy": "2022-05-02T18:31:59.17337Z",
     "iopub.status.idle": "2022-05-02T18:31:59.177282Z",
     "shell.execute_reply": "2022-05-02T18:31:59.176553Z",
     "shell.execute_reply.started": "2022-05-02T18:31:59.173608Z"
    }
   },
   "outputs": [],
   "source": [
    "# X_bert = []\n",
    "# for i in X_preprocessed_bert:\n",
    "#     embed = bert_model.encode(i)\n",
    "#     X_bert.append(embed)\n",
    "# np.save('bert_embeddings_2000.npy', np.array(X_bert))"
   ]
  },
  {
   "cell_type": "code",
   "execution_count": 26,
   "metadata": {
    "execution": {
     "iopub.execute_input": "2022-05-03T20:59:44.395078Z",
     "iopub.status.busy": "2022-05-03T20:59:44.394590Z",
     "iopub.status.idle": "2022-05-03T20:59:44.593131Z",
     "shell.execute_reply": "2022-05-03T20:59:44.592491Z",
     "shell.execute_reply.started": "2022-05-03T20:59:44.395039Z"
    }
   },
   "outputs": [
    {
     "data": {
      "text/plain": [
       "(1999, 768)"
      ]
     },
     "execution_count": 26,
     "metadata": {},
     "output_type": "execute_result"
    }
   ],
   "source": [
    "X_bert = np.load('bert_embeddings_2000.npy')\n",
    "X_bert.shape"
   ]
  },
  {
   "cell_type": "markdown",
   "metadata": {},
   "source": [
    "### 3. Glove Embeddings"
   ]
  },
  {
   "cell_type": "code",
   "execution_count": 27,
   "metadata": {
    "execution": {
     "iopub.execute_input": "2022-05-03T20:59:49.986635Z",
     "iopub.status.busy": "2022-05-03T20:59:49.986378Z",
     "iopub.status.idle": "2022-05-03T20:59:50.183051Z",
     "shell.execute_reply": "2022-05-03T20:59:50.182258Z",
     "shell.execute_reply.started": "2022-05-03T20:59:49.986606Z"
    }
   },
   "outputs": [],
   "source": [
    "X_glove = np.zeros((X_preprocessed_glove.shape[0], 100, 200))\n",
    "for i in range(X_glove.shape[0]):\n",
    "    embedding = np.array(X_preprocessed_glove[i][0])\n",
    "    X_glove[i,0:embedding.shape[0],:] = embedding"
   ]
  },
  {
   "cell_type": "code",
   "execution_count": 28,
   "metadata": {
    "execution": {
     "iopub.execute_input": "2022-05-03T20:59:52.301085Z",
     "iopub.status.busy": "2022-05-03T20:59:52.300311Z",
     "iopub.status.idle": "2022-05-03T20:59:52.307446Z",
     "shell.execute_reply": "2022-05-03T20:59:52.306512Z",
     "shell.execute_reply.started": "2022-05-03T20:59:52.301034Z"
    }
   },
   "outputs": [
    {
     "data": {
      "text/plain": [
       "(1999, 100, 200)"
      ]
     },
     "execution_count": 28,
     "metadata": {},
     "output_type": "execute_result"
    }
   ],
   "source": [
    "X_glove.shape"
   ]
  },
  {
   "cell_type": "markdown",
   "metadata": {},
   "source": [
    "# Split the data into train and test set"
   ]
  },
  {
   "cell_type": "markdown",
   "metadata": {},
   "source": [
    "### 1. TF-IDF embeddings"
   ]
  },
  {
   "cell_type": "code",
   "execution_count": 29,
   "metadata": {
    "execution": {
     "iopub.execute_input": "2022-05-03T21:00:26.078978Z",
     "iopub.status.busy": "2022-05-03T21:00:26.078662Z",
     "iopub.status.idle": "2022-05-03T21:00:26.087417Z",
     "shell.execute_reply": "2022-05-03T21:00:26.086486Z",
     "shell.execute_reply.started": "2022-05-03T21:00:26.078945Z"
    }
   },
   "outputs": [],
   "source": [
    "X_train_tfidf, X_test_tfidf, y_train_tfidf, y_test_tfidf = train_test_split(X_tfidf, y, test_size = 0.3)"
   ]
  },
  {
   "cell_type": "markdown",
   "metadata": {},
   "source": [
    "### 2. BERT embeddings"
   ]
  },
  {
   "cell_type": "code",
   "execution_count": 30,
   "metadata": {
    "execution": {
     "iopub.execute_input": "2022-05-03T21:00:27.522157Z",
     "iopub.status.busy": "2022-05-03T21:00:27.521554Z",
     "iopub.status.idle": "2022-05-03T21:00:27.526148Z",
     "shell.execute_reply": "2022-05-03T21:00:27.525421Z",
     "shell.execute_reply.started": "2022-05-03T21:00:27.522116Z"
    }
   },
   "outputs": [],
   "source": [
    "y_bert = np.array(y)"
   ]
  },
  {
   "cell_type": "code",
   "execution_count": 31,
   "metadata": {
    "execution": {
     "iopub.execute_input": "2022-05-03T21:00:28.402362Z",
     "iopub.status.busy": "2022-05-03T21:00:28.401863Z",
     "iopub.status.idle": "2022-05-03T21:00:28.409695Z",
     "shell.execute_reply": "2022-05-03T21:00:28.408989Z",
     "shell.execute_reply.started": "2022-05-03T21:00:28.402328Z"
    }
   },
   "outputs": [],
   "source": [
    "X_train_bert, X_test_bert, y_train_bert, y_test_bert = train_test_split(X_bert, y_bert, test_size = 0.3)"
   ]
  },
  {
   "cell_type": "markdown",
   "metadata": {},
   "source": [
    "### 3. Glove embeddings"
   ]
  },
  {
   "cell_type": "code",
   "execution_count": 32,
   "metadata": {
    "execution": {
     "iopub.execute_input": "2022-05-03T21:00:30.627598Z",
     "iopub.status.busy": "2022-05-03T21:00:30.627085Z",
     "iopub.status.idle": "2022-05-03T21:00:30.631708Z",
     "shell.execute_reply": "2022-05-03T21:00:30.630831Z",
     "shell.execute_reply.started": "2022-05-03T21:00:30.627559Z"
    }
   },
   "outputs": [],
   "source": [
    "y_glove = np.array(y)"
   ]
  },
  {
   "cell_type": "code",
   "execution_count": 33,
   "metadata": {
    "execution": {
     "iopub.execute_input": "2022-05-03T21:00:31.204225Z",
     "iopub.status.busy": "2022-05-03T21:00:31.204012Z",
     "iopub.status.idle": "2022-05-03T21:00:31.581124Z",
     "shell.execute_reply": "2022-05-03T21:00:31.580370Z",
     "shell.execute_reply.started": "2022-05-03T21:00:31.204199Z"
    }
   },
   "outputs": [],
   "source": [
    "X_train_glove, X_test_glove, y_train_glove, y_test_glove = train_test_split(X_glove, y_glove, test_size = 0.3)"
   ]
  },
  {
   "cell_type": "markdown",
   "metadata": {},
   "source": [
    "# Create models"
   ]
  },
  {
   "cell_type": "markdown",
   "metadata": {},
   "source": [
    "### 1. SVM"
   ]
  },
  {
   "cell_type": "code",
   "execution_count": 34,
   "metadata": {
    "execution": {
     "iopub.execute_input": "2022-05-03T21:00:34.785371Z",
     "iopub.status.busy": "2022-05-03T21:00:34.784843Z",
     "iopub.status.idle": "2022-05-03T21:00:35.675252Z",
     "shell.execute_reply": "2022-05-03T21:00:35.674542Z",
     "shell.execute_reply.started": "2022-05-03T21:00:34.785336Z"
    }
   },
   "outputs": [
    {
     "data": {
      "text/plain": [
       "SVC()"
      ]
     },
     "execution_count": 34,
     "metadata": {},
     "output_type": "execute_result"
    }
   ],
   "source": [
    "from sklearn.svm import SVC\n",
    "svc_model = SVC()\n",
    "svc_model.fit(X_train_tfidf, y_train_tfidf) "
   ]
  },
  {
   "cell_type": "markdown",
   "metadata": {},
   "source": [
    "### 2. Multinomial Naive Bayes"
   ]
  },
  {
   "cell_type": "code",
   "execution_count": 35,
   "metadata": {
    "execution": {
     "iopub.execute_input": "2022-05-03T21:00:37.874411Z",
     "iopub.status.busy": "2022-05-03T21:00:37.873559Z",
     "iopub.status.idle": "2022-05-03T21:00:37.889696Z",
     "shell.execute_reply": "2022-05-03T21:00:37.888765Z",
     "shell.execute_reply.started": "2022-05-03T21:00:37.874372Z"
    }
   },
   "outputs": [
    {
     "data": {
      "text/plain": [
       "MultinomialNB()"
      ]
     },
     "execution_count": 35,
     "metadata": {},
     "output_type": "execute_result"
    }
   ],
   "source": [
    "from sklearn.naive_bayes import MultinomialNB\n",
    "MNB_model = MultinomialNB()\n",
    "MNB_model.fit(X_train_tfidf, y_train_tfidf) "
   ]
  },
  {
   "cell_type": "markdown",
   "metadata": {},
   "source": [
    "### 3. Bernoulli Naive Bayes"
   ]
  },
  {
   "cell_type": "code",
   "execution_count": 36,
   "metadata": {
    "execution": {
     "iopub.execute_input": "2022-05-03T21:00:38.791659Z",
     "iopub.status.busy": "2022-05-03T21:00:38.791091Z",
     "iopub.status.idle": "2022-05-03T21:00:38.803305Z",
     "shell.execute_reply": "2022-05-03T21:00:38.802289Z",
     "shell.execute_reply.started": "2022-05-03T21:00:38.791621Z"
    }
   },
   "outputs": [
    {
     "data": {
      "text/plain": [
       "BernoulliNB()"
      ]
     },
     "execution_count": 36,
     "metadata": {},
     "output_type": "execute_result"
    }
   ],
   "source": [
    "from sklearn.naive_bayes import BernoulliNB\n",
    "BNB_model = BernoulliNB()\n",
    "BNB_model.fit(X_train_tfidf, y_train_tfidf) "
   ]
  },
  {
   "cell_type": "markdown",
   "metadata": {},
   "source": [
    "### 4. Decision Tree Classifier"
   ]
  },
  {
   "cell_type": "code",
   "execution_count": 37,
   "metadata": {
    "execution": {
     "iopub.execute_input": "2022-05-03T21:00:40.221406Z",
     "iopub.status.busy": "2022-05-03T21:00:40.220721Z",
     "iopub.status.idle": "2022-05-03T21:00:40.496304Z",
     "shell.execute_reply": "2022-05-03T21:00:40.493263Z",
     "shell.execute_reply.started": "2022-05-03T21:00:40.221368Z"
    }
   },
   "outputs": [
    {
     "data": {
      "text/plain": [
       "DecisionTreeClassifier()"
      ]
     },
     "execution_count": 37,
     "metadata": {},
     "output_type": "execute_result"
    }
   ],
   "source": [
    "from sklearn.tree import DecisionTreeClassifier\n",
    "DT_model = DecisionTreeClassifier()\n",
    "DT_model.fit(X_train_tfidf, y_train_tfidf) "
   ]
  },
  {
   "cell_type": "markdown",
   "metadata": {
    "execution": {
     "iopub.execute_input": "2022-04-24T11:35:09.984929Z",
     "iopub.status.busy": "2022-04-24T11:35:09.984566Z",
     "iopub.status.idle": "2022-04-24T11:35:09.993324Z",
     "shell.execute_reply": "2022-04-24T11:35:09.992238Z",
     "shell.execute_reply.started": "2022-04-24T11:35:09.984848Z"
    }
   },
   "source": [
    "### 5. Logistic Regression"
   ]
  },
  {
   "cell_type": "code",
   "execution_count": 38,
   "metadata": {
    "execution": {
     "iopub.execute_input": "2022-05-03T21:00:41.869738Z",
     "iopub.status.busy": "2022-05-03T21:00:41.869486Z",
     "iopub.status.idle": "2022-05-03T21:00:41.926226Z",
     "shell.execute_reply": "2022-05-03T21:00:41.925484Z",
     "shell.execute_reply.started": "2022-05-03T21:00:41.869708Z"
    }
   },
   "outputs": [
    {
     "data": {
      "text/plain": [
       "LogisticRegression()"
      ]
     },
     "execution_count": 38,
     "metadata": {},
     "output_type": "execute_result"
    }
   ],
   "source": [
    "from sklearn.linear_model import LogisticRegression\n",
    "LR_model = LogisticRegression()\n",
    "LR_model.fit(X_train_tfidf, y_train_tfidf)"
   ]
  },
  {
   "cell_type": "markdown",
   "metadata": {},
   "source": [
    "### 6. Multi-Layer Perceptron Classifier"
   ]
  },
  {
   "cell_type": "code",
   "execution_count": 39,
   "metadata": {
    "execution": {
     "iopub.execute_input": "2022-05-03T21:00:43.997664Z",
     "iopub.status.busy": "2022-05-03T21:00:43.997419Z",
     "iopub.status.idle": "2022-05-03T21:00:47.489482Z",
     "shell.execute_reply": "2022-05-03T21:00:47.487896Z",
     "shell.execute_reply.started": "2022-05-03T21:00:43.997637Z"
    }
   },
   "outputs": [
    {
     "name": "stderr",
     "output_type": "stream",
     "text": [
      "/home/patidar/.local/lib/python3.8/site-packages/sklearn/neural_network/_multilayer_perceptron.py:692: ConvergenceWarning: Stochastic Optimizer: Maximum iterations (200) reached and the optimization hasn't converged yet.\n",
      "  warnings.warn(\n"
     ]
    },
    {
     "data": {
      "text/plain": [
       "MLPClassifier()"
      ]
     },
     "execution_count": 39,
     "metadata": {},
     "output_type": "execute_result"
    }
   ],
   "source": [
    "from sklearn.neural_network import MLPClassifier\n",
    "mlp_model = MLPClassifier()\n",
    "mlp_model.fit(X_train_bert, y_train_bert)"
   ]
  },
  {
   "cell_type": "markdown",
   "metadata": {},
   "source": [
    "### 7. Multi-Layer Neural Network"
   ]
  },
  {
   "cell_type": "code",
   "execution_count": 40,
   "metadata": {
    "execution": {
     "iopub.execute_input": "2022-05-03T21:11:18.582670Z",
     "iopub.status.busy": "2022-05-03T21:11:18.582142Z",
     "iopub.status.idle": "2022-05-03T21:11:21.530706Z",
     "shell.execute_reply": "2022-05-03T21:11:21.530056Z",
     "shell.execute_reply.started": "2022-05-03T21:11:18.582633Z"
    }
   },
   "outputs": [
    {
     "name": "stderr",
     "output_type": "stream",
     "text": [
      "2022-05-04 03:16:56.459415: W tensorflow/stream_executor/platform/default/dso_loader.cc:64] Could not load dynamic library 'libcuda.so.1'; dlerror: libcuda.so.1: cannot open shared object file: No such file or directory\n",
      "2022-05-04 03:16:56.459549: W tensorflow/stream_executor/cuda/cuda_driver.cc:269] failed call to cuInit: UNKNOWN ERROR (303)\n",
      "2022-05-04 03:16:56.459636: I tensorflow/stream_executor/cuda/cuda_diagnostics.cc:156] kernel driver does not appear to be running on this host (Sourabh-Ubuntu): /proc/driver/nvidia/version does not exist\n",
      "2022-05-04 03:16:56.504039: I tensorflow/core/platform/cpu_feature_guard.cc:151] This TensorFlow binary is optimized with oneAPI Deep Neural Network Library (oneDNN) to use the following CPU instructions in performance-critical operations:  AVX2 FMA\n",
      "To enable them in other operations, rebuild TensorFlow with the appropriate compiler flags.\n"
     ]
    },
    {
     "name": "stdout",
     "output_type": "stream",
     "text": [
      "Epoch 1/10\n",
      "44/44 [==============================] - 2s 17ms/step - loss: 0.5826 - accuracy: 0.7062 - val_loss: 0.4945 - val_accuracy: 0.7567\n",
      "Epoch 2/10\n",
      "44/44 [==============================] - 0s 10ms/step - loss: 0.4619 - accuracy: 0.7827 - val_loss: 0.5699 - val_accuracy: 0.7417\n",
      "Epoch 3/10\n",
      "44/44 [==============================] - 0s 10ms/step - loss: 0.4501 - accuracy: 0.7913 - val_loss: 0.5111 - val_accuracy: 0.7667\n",
      "Epoch 4/10\n",
      "44/44 [==============================] - 0s 9ms/step - loss: 0.4232 - accuracy: 0.8034 - val_loss: 0.5444 - val_accuracy: 0.7483\n",
      "Epoch 5/10\n",
      "44/44 [==============================] - 0s 10ms/step - loss: 0.4246 - accuracy: 0.7934 - val_loss: 0.5729 - val_accuracy: 0.7383\n",
      "Epoch 6/10\n",
      "44/44 [==============================] - 0s 10ms/step - loss: 0.4005 - accuracy: 0.8084 - val_loss: 0.5193 - val_accuracy: 0.7517\n",
      "Epoch 7/10\n",
      "44/44 [==============================] - 0s 10ms/step - loss: 0.3508 - accuracy: 0.8385 - val_loss: 0.5569 - val_accuracy: 0.7517\n",
      "Epoch 8/10\n",
      "44/44 [==============================] - 0s 10ms/step - loss: 0.3106 - accuracy: 0.8713 - val_loss: 0.6217 - val_accuracy: 0.7367\n",
      "Epoch 9/10\n",
      "44/44 [==============================] - 0s 10ms/step - loss: 0.3387 - accuracy: 0.8578 - val_loss: 0.5502 - val_accuracy: 0.7417\n",
      "Epoch 10/10\n",
      "44/44 [==============================] - 0s 10ms/step - loss: 0.2926 - accuracy: 0.8685 - val_loss: 0.5740 - val_accuracy: 0.7533\n"
     ]
    },
    {
     "data": {
      "text/plain": [
       "<keras.callbacks.History at 0x7f2bcf484b50>"
      ]
     },
     "execution_count": 40,
     "metadata": {},
     "output_type": "execute_result"
    }
   ],
   "source": [
    "mlp_model2 = Sequential()\n",
    "mlp_model2.add(Dense(1024, activation = 'relu'))\n",
    "mlp_model2.add(Dense(512, activation = 'relu'))\n",
    "mlp_model2.add(Dense(1, activation = 'sigmoid'))\n",
    "mlp_model2.compile(loss='binary_crossentropy', optimizer='adam', metrics=['accuracy'])\n",
    "mlp_model2.fit(X_train_bert, y_train_bert , validation_data = (X_test_bert, y_test_bert), epochs=10)"
   ]
  },
  {
   "cell_type": "markdown",
   "metadata": {},
   "source": [
    "### 8. LSTM "
   ]
  },
  {
   "cell_type": "code",
   "execution_count": 41,
   "metadata": {},
   "outputs": [
    {
     "name": "stdout",
     "output_type": "stream",
     "text": [
      "Epoch 1/10\n"
     ]
    },
    {
     "name": "stderr",
     "output_type": "stream",
     "text": [
      "2022-05-04 03:17:06.890849: W tensorflow/core/framework/cpu_allocator_impl.cc:82] Allocation of 111920000 exceeds 10% of free system memory.\n"
     ]
    },
    {
     "name": "stdout",
     "output_type": "stream",
     "text": [
      "43/44 [============================>.] - ETA: 0s - loss: 0.6939 - accuracy: 0.5371"
     ]
    },
    {
     "name": "stderr",
     "output_type": "stream",
     "text": [
      "2022-05-04 03:17:10.676273: W tensorflow/core/framework/cpu_allocator_impl.cc:82] Allocation of 48000000 exceeds 10% of free system memory.\n"
     ]
    },
    {
     "name": "stdout",
     "output_type": "stream",
     "text": [
      "44/44 [==============================] - 4s 47ms/step - loss: 0.6941 - accuracy: 0.5368 - val_loss: 0.6824 - val_accuracy: 0.5833\n",
      "Epoch 2/10\n",
      "44/44 [==============================] - 2s 36ms/step - loss: 0.6611 - accuracy: 0.5926 - val_loss: 0.6792 - val_accuracy: 0.5783\n",
      "Epoch 3/10\n",
      "44/44 [==============================] - 2s 35ms/step - loss: 0.6368 - accuracy: 0.6247 - val_loss: 0.6875 - val_accuracy: 0.5683\n",
      "Epoch 4/10\n",
      "44/44 [==============================] - 2s 36ms/step - loss: 0.6082 - accuracy: 0.6490 - val_loss: 0.7109 - val_accuracy: 0.5433\n",
      "Epoch 5/10\n",
      "44/44 [==============================] - 2s 36ms/step - loss: 0.5850 - accuracy: 0.6569 - val_loss: 0.7200 - val_accuracy: 0.5733\n",
      "Epoch 6/10\n",
      "44/44 [==============================] - 2s 37ms/step - loss: 0.5633 - accuracy: 0.6662 - val_loss: 0.7486 - val_accuracy: 0.5667\n",
      "Epoch 7/10\n",
      "44/44 [==============================] - 2s 36ms/step - loss: 0.5564 - accuracy: 0.6669 - val_loss: 0.7619 - val_accuracy: 0.5467\n",
      "Epoch 8/10\n",
      "44/44 [==============================] - 2s 36ms/step - loss: 0.5582 - accuracy: 0.6540 - val_loss: 0.7665 - val_accuracy: 0.5383\n",
      "Epoch 9/10\n",
      "44/44 [==============================] - 2s 36ms/step - loss: 0.5300 - accuracy: 0.6733 - val_loss: 0.8051 - val_accuracy: 0.5600\n",
      "Epoch 10/10\n",
      "44/44 [==============================] - 2s 36ms/step - loss: 0.5256 - accuracy: 0.6798 - val_loss: 0.8024 - val_accuracy: 0.5583\n"
     ]
    },
    {
     "data": {
      "text/plain": [
       "<keras.callbacks.History at 0x7f2bc460f9a0>"
      ]
     },
     "execution_count": 41,
     "metadata": {},
     "output_type": "execute_result"
    }
   ],
   "source": [
    "lstm_model = Sequential()\n",
    "lstm_model.add(LSTM(50))\n",
    "lstm_model.add(Dense(1,activation='sigmoid'))\n",
    "lstm_model.compile(optimizer='adam', loss='binary_crossentropy', metrics=['accuracy'])\n",
    "lstm_model.fit(X_train_glove, y_train_glove , validation_data = (X_test_glove, y_test_glove), epochs=10)"
   ]
  },
  {
   "cell_type": "markdown",
   "metadata": {},
   "source": [
    "# Evaluation Metrics"
   ]
  },
  {
   "cell_type": "code",
   "execution_count": 47,
   "metadata": {
    "execution": {
     "iopub.execute_input": "2022-05-03T21:12:04.188840Z",
     "iopub.status.busy": "2022-05-03T21:12:04.188563Z",
     "iopub.status.idle": "2022-05-03T21:12:04.196972Z",
     "shell.execute_reply": "2022-05-03T21:12:04.196227Z",
     "shell.execute_reply.started": "2022-05-03T21:12:04.188808Z"
    }
   },
   "outputs": [],
   "source": [
    "accuracies = []\n",
    "confusion_matrices = []\n",
    "f1scores = []\n",
    "recalls = []\n",
    "precisions = []\n",
    "def evaluate(model, X_test, y_test):\n",
    "    y_pred = model.predict(X_test)\n",
    "    for i in range(len(y_pred)):\n",
    "        if y_pred[i]>0.5:\n",
    "            y_pred[i] = 1\n",
    "        else:\n",
    "            y_pred[i] = 0\n",
    "    accuracies.append(accuracy_score(y_test, y_pred)*100)\n",
    "    confusion_matrices.append(confusion_matrix(y_test, y_pred))\n",
    "    f1scores.append(f1_score(y_test, y_pred)*100)\n",
    "    recalls.append(recall_score(y_test, y_pred)*100)\n",
    "    precisions.append(precision_score(y_test, y_pred)*100)"
   ]
  },
  {
   "cell_type": "code",
   "execution_count": 48,
   "metadata": {
    "execution": {
     "iopub.execute_input": "2022-05-03T21:12:06.096384Z",
     "iopub.status.busy": "2022-05-03T21:12:06.095737Z",
     "iopub.status.idle": "2022-05-03T21:12:07.170538Z",
     "shell.execute_reply": "2022-05-03T21:12:07.169685Z",
     "shell.execute_reply.started": "2022-05-03T21:12:06.096348Z"
    }
   },
   "outputs": [
    {
     "name": "stderr",
     "output_type": "stream",
     "text": [
      "2022-05-04 03:17:57.345769: W tensorflow/core/framework/cpu_allocator_impl.cc:82] Allocation of 48000000 exceeds 10% of free system memory.\n"
     ]
    }
   ],
   "source": [
    "evaluate(MNB_model, X_test_tfidf, y_test_tfidf)\n",
    "evaluate(BNB_model, X_test_tfidf, y_test_tfidf)\n",
    "evaluate(svc_model, X_test_tfidf, y_test_tfidf)\n",
    "evaluate(LR_model, X_test_tfidf, y_test_tfidf)\n",
    "evaluate(DT_model, X_test_tfidf, y_test_tfidf)\n",
    "evaluate(mlp_model, X_test_bert, y_test_bert)\n",
    "evaluate(mlp_model2, X_test_bert, y_test_bert)\n",
    "evaluate(lstm_model, X_test_glove, y_test_glove)"
   ]
  },
  {
   "cell_type": "code",
   "execution_count": 50,
   "metadata": {
    "execution": {
     "iopub.execute_input": "2022-05-03T21:12:35.452476Z",
     "iopub.status.busy": "2022-05-03T21:12:35.452003Z",
     "iopub.status.idle": "2022-05-03T21:12:35.458515Z",
     "shell.execute_reply": "2022-05-03T21:12:35.457664Z",
     "shell.execute_reply.started": "2022-05-03T21:12:35.452438Z"
    }
   },
   "outputs": [],
   "source": [
    "models = [\"MultinomialNB\",  \"BernoulliNB\", \"SVM\", \"LogisiticRegression\",\"DecisionTree\", \"MLP\",\"MLP2\",\"LSTM\"]\n",
    "n_models = 8\n",
    "l = np.arange(n_models)"
   ]
  },
  {
   "cell_type": "code",
   "execution_count": 51,
   "metadata": {
    "execution": {
     "iopub.execute_input": "2022-05-03T21:12:39.432527Z",
     "iopub.status.busy": "2022-05-03T21:12:39.432284Z",
     "iopub.status.idle": "2022-05-03T21:12:39.711299Z",
     "shell.execute_reply": "2022-05-03T21:12:39.710638Z",
     "shell.execute_reply.started": "2022-05-03T21:12:39.432499Z"
    }
   },
   "outputs": [
    {
     "data": {
      "image/png": "[encoded data removed]",
      "text/plain": [
       "<Figure size 864x576 with 1 Axes>"
      ]
     },
     "metadata": {
      "needs_background": "light"
     },
     "output_type": "display_data"
    }
   ],
   "source": [
    "fig = plt.subplots(figsize =(12, 8))\n",
    "plt.bar(l, accuracies, width = 0.25, color = 'b', label=\"Accuracy\")\n",
    "plt.bar(l+0.25, precisions, width = 0.25, color='red', label=\"Precision\")\n",
    "plt.bar(l+0.5, recalls, width= 0.25, color ='g', label = \"Recall\")\n",
    "plt.xticks([r + 0.25 for r in range(n_models)],models)\n",
    "plt.xlabel(\"Machine Learning Models\")\n",
    "plt.legend()\n",
    "plt.show()"
   ]
  },
  {
   "cell_type": "code",
   "execution_count": 52,
   "metadata": {
    "execution": {
     "iopub.execute_input": "2022-05-03T21:13:12.773820Z",
     "iopub.status.busy": "2022-05-03T21:13:12.773529Z",
     "iopub.status.idle": "2022-05-03T21:13:12.792553Z",
     "shell.execute_reply": "2022-05-03T21:13:12.791836Z",
     "shell.execute_reply.started": "2022-05-03T21:13:12.773769Z"
    }
   },
   "outputs": [
    {
     "name": "stdout",
     "output_type": "stream",
     "text": [
      " |  MultinomialNB  |  258  |  52  |  218  |  72  | \n",
      " |  BernoulliNB  |  228  |  82  |  244  |  46  | \n",
      " |  SVM  |  238  |  72  |  241  |  49  | \n",
      " |  LogisiticRegression  |  237  |  73  |  231  |  59  | \n",
      " |  DecisionTree  |  227  |  83  |  216  |  74  | \n",
      " |  MLP  |  221  |  89  |  230  |  60  | \n",
      " |  MLP2  |  227  |  83  |  225  |  65  | \n",
      " |  LSTM  |  255  |  40  |  80  |  225  | \n"
     ]
    }
   ],
   "source": [
    "for i in range(n_models):\n",
    "    cv = confusion_matrices[i]\n",
    "    print(\" | \", models[i], \" | \", cv[0][0],\" | \", cv[0][1],\" | \",cv[1][1],\" | \", cv[1][0], \" | \")"
   ]
  },
  {
   "cell_type": "markdown",
   "metadata": {},
   "source": [
    "| Method | U | V | X | Y |\n",
    "| --- | --- | --- | --- | --- |\n",
    " |  MultinomialNB  |  258  |  52  |  218  |  72  | \n",
    " |  BernoulliNB  |  228  |  82  |  244  |  46  | \n",
    " |  SVM  |  238  |  72  |  241  |  49  | \n",
    " |  LogisiticRegression  |  237  |  73  |  231  |  59  | \n",
    " |  DecisionTree  |  227  |  83  |  216  |  74  | \n",
    " |  MLP  |  221  |  89  |  230  |  60  | \n",
    " |  MLP2  |  227  |  83  |  225  |  65  | \n",
    " |  LSTM  |  255  |  40  |  80  |  225  |"
   ]
  },
  {
   "cell_type": "code",
   "execution_count": 53,
   "metadata": {
    "execution": {
     "iopub.execute_input": "2022-05-03T21:13:50.750481Z",
     "iopub.status.busy": "2022-05-03T21:13:50.750232Z",
     "iopub.status.idle": "2022-05-03T21:13:50.997509Z",
     "shell.execute_reply": "2022-05-03T21:13:50.996829Z",
     "shell.execute_reply.started": "2022-05-03T21:13:50.750453Z"
    }
   },
   "outputs": [
    {
     "data": {
      "image/png": "[encoded data removed]",
      "text/plain": [
       "<Figure size 864x576 with 1 Axes>"
      ]
     },
     "metadata": {
      "needs_background": "light"
     },
     "output_type": "display_data"
    }
   ],
   "source": [
    "fig = plt.subplots(figsize =(12, 8))\n",
    "models = [\"MNB\", \"BNB\", \"SVM\",\"MEC\", \"DTC\", \"MLP\",\"MLP2\", \"LSTM\"]\n",
    "plt.plot(models, recalls, color = 'blue', label = \"Recall\")\n",
    "plt.plot(models, precisions , color='green', label = \"Precision\")\n",
    "for a,b in zip(models, recalls): \n",
    "    plt.text(a, b, str(round(b,2)))\n",
    "for a,b in zip(models, precisions): \n",
    "    plt.text(a, b, str(round(b,2)))\n",
    "plt.ylim(0,100)\n",
    "plt.grid()\n",
    "plt.legend()\n",
    "plt.show()"
   ]
  },
  {
   "cell_type": "code",
   "execution_count": 54,
   "metadata": {
    "execution": {
     "iopub.execute_input": "2022-05-03T21:14:17.022823Z",
     "iopub.status.busy": "2022-05-03T21:14:17.022553Z",
     "iopub.status.idle": "2022-05-03T21:14:17.043379Z",
     "shell.execute_reply": "2022-05-03T21:14:17.042641Z",
     "shell.execute_reply.started": "2022-05-03T21:14:17.022775Z"
    }
   },
   "outputs": [
    {
     "name": "stdout",
     "output_type": "stream",
     "text": [
      " |  MultinomialNB  |  79.33 % |  80.74 % |  75.17 % |  77.86 % | \n",
      " |  BernoulliNB  |  78.67 % |  74.85 % |  84.14 % |  79.22 % | \n",
      " |  SVM  |  79.83 % |  77.0 % |  83.1 % |  79.93 % | \n",
      " |  LogisiticRegression  |  78.0 % |  75.99 % |  79.66 % |  77.78 % | \n",
      " |  DecisionTree  |  73.83 % |  72.24 % |  74.48 % |  73.34 % | \n",
      " |  MLP  |  75.17 % |  72.1 % |  79.31 % |  75.53 % | \n",
      " |  MLP2  |  75.33 % |  73.05 % |  77.59 % |  75.25 % | \n",
      " |  LSTM  |  55.83 % |  66.67 % |  26.23 % |  37.65 % | \n"
     ]
    }
   ],
   "source": [
    "models = [\"MultinomialNB\",  \"BernoulliNB\", \"SVM\", \"LogisiticRegression\",\"DecisionTree\", \"MLP\",\"MLP2\",\"LSTM\"]\n",
    "for i in range(8):\n",
    "    print(\" | \", models[i],\" | \", round(accuracies[i],2),\"% | \", round(precisions[i],2), \"% | \", round(recalls[i],2), \"% | \", round(f1scores[i],2), \"% | \")"
   ]
  },
  {
   "cell_type": "markdown",
   "metadata": {
    "execution": {
     "iopub.execute_input": "2022-05-02T23:14:01.561308Z",
     "iopub.status.busy": "2022-05-02T23:14:01.560667Z",
     "iopub.status.idle": "2022-05-02T23:14:01.570867Z",
     "shell.execute_reply": "2022-05-02T23:14:01.570048Z",
     "shell.execute_reply.started": "2022-05-02T23:14:01.561266Z"
    }
   },
   "source": [
    "| Method | Accuracy | Precision | Recall | F1-score |\n",
    "| --- | --- | --- | --- | --- |\n",
    "|  MultinomialNB  |  78.83 % |  74.29 % |  83.57 % |  78.66 % | \n",
    " |  BernoulliNB  |  81.33 % |  76.09 % |  87.5 % |  81.4 % | \n",
    " |  SVM  |  78.5 % |  72.95 % |  85.71 % |  78.82 % | \n",
    " |  LogisiticRegression  |  77.5 % |  72.31 % |  83.93 % |  77.69 % | \n",
    " |  DecisionTree  |  71.33 % |  66.77 % |  76.79 % |  71.43 % | \n",
    " |  MLP  |  76.67 % |  74.68 % |  78.77 % |  76.67 % | \n",
    " |  MLP2  |  73.33 % |  69.88 % |  79.45 % |  74.36 % | \n",
    " |  LSTM  |  55.83 % |  59.35 % |  41.64 % |  48.94 % | "
   ]
  }
 ],
 "metadata": {
  "kernelspec": {
   "display_name": "Python 3 (ipykernel)",
   "language": "python",
   "name": "python3"
  },
  "language_info": {
   "codemirror_mode": {
    "name": "ipython",
    "version": 3
   },
   "file_extension": ".py",
   "mimetype": "text/x-python",
   "name": "python",
   "nbconvert_exporter": "python",
   "pygments_lexer": "ipython3",
   "version": "3.8.10"
  }
 },
 "nbformat": 4,
 "nbformat_minor": 4
}
